{
 "cells": [
  {
   "cell_type": "markdown",
   "metadata": {},
   "source": [
    "# Spam filter assignment\n",
    "\n",
    "You are tasked with writing a spam filter. By the end of this document, you will write a function that takes in a string, and outputs a designation of the entire string as \"1\" (SPAM) or \"0\" (NOT SPAM). And you will use that function to test various classification algorithms on the data.\n",
    "\n",
    "We will walk you through feature generation, but the choice of classifier and model tuning are up to you. You will optimize a number of models (see below). Classification performance on the test set will determine extra credit points."
   ]
  },
  {
   "cell_type": "code",
   "execution_count": 2,
   "metadata": {},
   "outputs": [
    {
     "name": "stderr",
     "output_type": "stream",
     "text": [
      "C:\\Users\\Sharon\\Anaconda3\\lib\\site-packages\\sklearn\\cross_validation.py:41: DeprecationWarning: This module was deprecated in version 0.18 in favor of the model_selection module into which all the refactored classes and functions are moved. Also note that the interface of the new CV iterators are different from that of this module. This module will be removed in 0.20.\n",
      "  \"This module will be removed in 0.20.\", DeprecationWarning)\n"
     ]
    }
   ],
   "source": [
    "# feel free to add other imports as necessary\n",
    "import numpy as np\n",
    "import matplotlib.pyplot as plt\n",
    "from sklearn.preprocessing import StandardScaler\n",
    "\n",
    "from sklearn import cross_validation\n",
    "from sklearn.model_selection import KFold\n",
    "\n",
    "import os\n",
    "os.chdir('C:/Users/Sharon/Desktop/Chapman Spring 2018/Data Mining CS 530/Homework/spam_data')"
   ]
  },
  {
   "cell_type": "markdown",
   "metadata": {},
   "source": [
    "## Feature generation\n",
    "\n",
    "While not the most sophisticated approach, we will be using \"spam-indicating\" words to determine whether a document is spam or not.\n",
    "\n",
    "We've compiled a list of \"spam-indicating\" words (https://blog.hubspot.com/blog/tabid/6307/bid/30684/the-ultimate-list-of-email-spam-trigger-words.aspx) compiled as \"spam_words.txt\" (suspicious title, I know). \n"
   ]
  },
  {
   "cell_type": "code",
   "execution_count": 3,
   "metadata": {
    "collapsed": true
   },
   "outputs": [],
   "source": [
    "filename = \"spam_words.txt\"  # modify the path as needed\n",
    "with open(filename) as f:\n",
    "    spam_word_list = f.readlines()\n",
    "    \n",
    "spam_word_list = [x.strip().lower() for x in spam_word_list]  # remove newline characters"
   ]
  },
  {
   "cell_type": "markdown",
   "metadata": {},
   "source": [
    "## Part 1: Text featurization\n",
    "\n",
    "You will write a function to represent the document, the frequency, and occurence of each of the words in the word list.\n"
   ]
  },
  {
   "cell_type": "code",
   "execution_count": 4,
   "metadata": {
    "collapsed": true
   },
   "outputs": [],
   "source": [
    "def count_occurences(document, wordlist):\n",
    "    \"\"\" This function will take in a document (string) \n",
    "    and count the number of times each element in wordlist occurs.\n",
    "    inputs:\n",
    "    -document: string\n",
    "    -wordlist: list (i.e. spam_word_list from above)\n",
    "    return: \n",
    "    -counts: array of len(wordlist) indicating the number of times each word\n",
    "    of wordlist occurs in the document.\n",
    "    \"\"\"\n",
    "    document = document.lower().strip()\n",
    "    \n",
    "    counts = []\n",
    "    for word in wordlist:\n",
    "        counts.append(document.count(word))\n",
    "    ### \n",
    "    # useful built-in string functions: \n",
    "    # lower-case the document: .lower(), \n",
    "    # remove formatting characters: .strip()\n",
    "    # number of times a substring occurs: .count()\n",
    "    # YOUR CODE BELOW\n",
    "    ###\n",
    "    return counts"
   ]
  },
  {
   "cell_type": "markdown",
   "metadata": {},
   "source": [
    "## Training data\n",
    "\n",
    "There are two folders containing the text of emails. For simplicity, you just need to read in each file as a string (which will be featurized according to the feature generator for classification). You will also need to create a labels array, which will be 0 for every element in the \"NOT SPAM\" folder, and 1 for every email in the \"SPAM\" folder.\n",
    "\n",
    "NOTE: you may need to convert these lists into numpy arrays depending on your implementation later"
   ]
  },
  {
   "cell_type": "code",
   "execution_count": 5,
   "metadata": {
    "collapsed": true
   },
   "outputs": [],
   "source": [
    "# feel free to make this more elegant\n",
    "def load_data(spam_path, not_spam_path):\n",
    "    \"\"\"\n",
    "    a function that takes the paths of the \"spam\" and \"not_spam\" folders, loads the emails and generates labels.\n",
    "    NOTE: some emails have strange unicode formatting-- we include basic exception handling so you can ignore those files\n",
    "    there will still be plenty of training examples\n",
    "    inputs:\n",
    "    -spam_path: path to spam folder\n",
    "    -not_spam_path: path to not spam folder\n",
    "    return:\n",
    "    -emails: list of strings (each corresponding to a file)\n",
    "    -labels: list of 0's (not spam) and 1's (spam)\n",
    "    \"\"\"\n",
    "    emails = []\n",
    "    labels = []\n",
    "    for filename in os.listdir(spam_path):\n",
    "        try:\n",
    "            with open(os.path.join(spam_path, filename)) as f:\n",
    "                emails.append(f.read())\n",
    "            labels.append(1)\n",
    "        except UnicodeDecodeError: # don't bother with ones that don't read in\n",
    "            pass  \n",
    "    \n",
    "    for filename in os.listdir(not_spam_path):\n",
    "        try:\n",
    "            with open(os.path.join(not_spam_path, filename)) as f:\n",
    "                emails.append(f.read())\n",
    "            labels.append(0)\n",
    "        except UnicodeDecodeError: # don't bother with ones that don't read in\n",
    "            pass  \n",
    "    return emails, labels"
   ]
  },
  {
   "cell_type": "code",
   "execution_count": 6,
   "metadata": {
    "collapsed": true
   },
   "outputs": [],
   "source": [
    "spam_path = 'C:/Users/Sharon/Desktop/Chapman Spring 2018/Data Mining CS 530/Homework/spam_data/spam'\n",
    "not_spam_path = 'C:/Users/Sharon/Desktop/Chapman Spring 2018/Data Mining CS 530/Homework/spam_data/not_spam'"
   ]
  },
  {
   "cell_type": "code",
   "execution_count": 7,
   "metadata": {
    "collapsed": true
   },
   "outputs": [],
   "source": [
    "emails, y = load_data(spam_path, not_spam_path)"
   ]
  },
  {
   "cell_type": "code",
   "execution_count": 8,
   "metadata": {
    "collapsed": true
   },
   "outputs": [],
   "source": [
    "x=[]\n",
    "for email in emails:\n",
    "    x.append(count_occurences(email, spam_word_list))"
   ]
  },
  {
   "cell_type": "code",
   "execution_count": 9,
   "metadata": {
    "scrolled": true
   },
   "outputs": [
    {
     "name": "stderr",
     "output_type": "stream",
     "text": [
      "C:\\Users\\Sharon\\Anaconda3\\lib\\site-packages\\sklearn\\utils\\validation.py:475: DataConversionWarning: Data with input dtype int32 was converted to float64 by StandardScaler.\n",
      "  warnings.warn(msg, DataConversionWarning)\n"
     ]
    }
   ],
   "source": [
    "X = np.asarray(x)\n",
    "y = np.asarray(y)\n",
    "X = StandardScaler().fit_transform(X)"
   ]
  },
  {
   "cell_type": "markdown",
   "metadata": {},
   "source": [
    "## Part 2: Selecting and optimizing models\n",
    "In the section below, add as many cells as necessary to select your models and optimize their free parameters. Then, include final code to fit your models on all of the available training data. Your models can be either scikit-learn classifiers (i.e. \"clf\" as we've referred to in class) or sklearn pipelines that implement a .fit() and .predict() method."
   ]
  },
  {
   "cell_type": "markdown",
   "metadata": {},
   "source": [
    "Once you finish the above, your assignment is to create models for the following classification algorithms that we covered in class: \n",
    "\n",
    "1. LDA\n",
    "2. Logistic Regression\n",
    "3. Naive Bayes\n",
    "4. kNN, \n",
    "5. one of the Tree-Based methods\n",
    "6. SVM. \n",
    "\n",
    "### Fit each model in its own cell below. Then, complete the python dictionary below as {name of model: clf}\n",
    "\n",
    "Try different parameters on your models. You can optimize the parameters using cross validation. \n",
    "\n",
    "You do not have to participate in the extra-credit competition below. Nevertheless, we will give full marks for this exercise only for models that classify better than chance on our test set (described in the extra-credit competition section below). If you suspect that one of your classifiers will not do better than chance, do not just submit it and hope for the best. Instead, include a short explanation about the reasons that you think that model will not be successful on our dataset, relating to things like the model's assumptions, specific characteristics of this type of dataset, and so on. A model that does not achieve better-than-chance performance but includes a clear and reasonable explanation of the reasons for that level of performance can achieve full marks. \n",
    "In a cell at the bottom of the notebook, discuss your findings about why certain classifiers work better than others. Relate that to the assumptions that different classifiers make and to what we learned regarding the relations between different classifiers."
   ]
  },
  {
   "cell_type": "code",
   "execution_count": 10,
   "metadata": {
    "collapsed": true
   },
   "outputs": [],
   "source": [
    "# train your models here-- feel free to add additional cells"
   ]
  },
  {
   "cell_type": "code",
   "execution_count": 11,
   "metadata": {
    "collapsed": true
   },
   "outputs": [],
   "source": [
    "from sklearn.model_selection import KFold\n",
    "n_folds = 10\n",
    "kf = KFold(n_folds)  # 5 fold classification... just because."
   ]
  },
  {
   "cell_type": "code",
   "execution_count": 11,
   "metadata": {},
   "outputs": [
    {
     "name": "stderr",
     "output_type": "stream",
     "text": [
      "C:\\Users\\Sharon\\Anaconda3\\lib\\site-packages\\sklearn\\discriminant_analysis.py:388: UserWarning: Variables are collinear.\n",
      "  warnings.warn(\"Variables are collinear.\")\n"
     ]
    }
   ],
   "source": [
    "#LDA\n",
    "n_s = np.arange(1, 100)  # test k from 1 to 9\n",
    "\n",
    "from sklearn.discriminant_analysis import LinearDiscriminantAnalysis\n",
    "scores = []\n",
    "for k in n_s:\n",
    "    clf_n_scores = []\n",
    "    for train, test in kf.split(X):\n",
    "        lda = LinearDiscriminantAnalysis(n_components=k)\n",
    "        lda.fit(X[train], y[train])\n",
    "        clf_n_scores.append(lda.score(X[test], y[test]))\n",
    "    \n",
    "    scores.append(clf_n_scores)\n",
    "\n",
    "scores = np.array(scores)\n",
    "n_scores = scores.mean(axis=1)"
   ]
  },
  {
   "cell_type": "code",
   "execution_count": 12,
   "metadata": {},
   "outputs": [
    {
     "data": {
      "image/png": "[encoded data removed]",
      "text/plain": [
       "<matplotlib.figure.Figure at 0xa480e204e0>"
      ]
     },
     "metadata": {},
     "output_type": "display_data"
    },
    {
     "name": "stdout",
     "output_type": "stream",
     "text": [
      "0.890581395349\n"
     ]
    }
   ],
   "source": [
    "plt.plot(n_s, n_scores, 'o-')\n",
    "plt.ylabel(\"CV-Accuracy\")\n",
    "plt.xlabel(\"N\")\n",
    "best_n = n_s[np.argmax(n_scores)]\n",
    "plt.title(\"Best n: {}\".format(best_n))\n",
    "plt.show()\n",
    "print(np.max(n_scores))"
   ]
  },
  {
   "cell_type": "code",
   "execution_count": 34,
   "metadata": {},
   "outputs": [
    {
     "name": "stdout",
     "output_type": "stream",
     "text": [
      "0.936458773784\n"
     ]
    }
   ],
   "source": [
    "#Logistic Regression\n",
    "from sklearn.linear_model import LogisticRegression\n",
    "\n",
    "clf_k_scores = []\n",
    "for train, test in kf.split(X):\n",
    "    logreg = LogisticRegression()\n",
    "    logreg.fit(X[train], y[train])\n",
    "    clf_k_scores.append(logreg.score(X[test], y[test]))\n",
    "\n",
    "scores = np.array(clf_k_scores)\n",
    "k_scores = scores.mean()\n",
    "print(k_scores)"
   ]
  },
  {
   "cell_type": "code",
   "execution_count": 14,
   "metadata": {},
   "outputs": [
    {
     "name": "stdout",
     "output_type": "stream",
     "text": [
      "0.821490486258\n"
     ]
    }
   ],
   "source": [
    "#Naive Bayes\n",
    "from sklearn.naive_bayes import GaussianNB\n",
    "from sklearn.discriminant_analysis import QuadraticDiscriminantAnalysis\n",
    "\n",
    "clf_k_scores = []\n",
    "for train, test in kf.split(X):\n",
    "    nb = GaussianNB()\n",
    "    nb.fit(X[train], y[train])\n",
    "    clf_k_scores.append(nb.score(X[test], y[test]))\n",
    "\n",
    "scores = np.array(clf_k_scores)\n",
    "k_scores = scores.mean()\n",
    "print(k_scores)"
   ]
  },
  {
   "cell_type": "code",
   "execution_count": 26,
   "metadata": {
    "collapsed": true
   },
   "outputs": [],
   "source": [
    "#k-NN\n",
    "candidate_ks = np.arange(1, 100)\n",
    "\n",
    "from sklearn.neighbors import KNeighborsClassifier\n",
    "scores = []\n",
    "for k in candidate_ks:\n",
    "    this_k_scores = []\n",
    "    for train, test in kf.split(X):\n",
    "        this_knn = KNeighborsClassifier(k)\n",
    "        this_knn.fit(X[train], y[train])\n",
    "        this_k_scores.append(this_knn.score(X[test], y[test]))\n",
    "            \n",
    "    # this can be done in one line! see if you can figure this out.\n",
    "#     this_fold_scores = [KNeighborsClassifier(k).fit(X[train], y[train]).score(X[test], y[test]) for k in candidate_ks]\n",
    "    \n",
    "    scores.append(this_k_scores)\n",
    "\n",
    "scores = np.array(scores)\n",
    "k_scores = scores.mean(axis=1)"
   ]
  },
  {
   "cell_type": "code",
   "execution_count": 27,
   "metadata": {},
   "outputs": [
    {
     "data": {
      "image/png": "[encoded data removed]",
      "text/plain": [
       "<matplotlib.figure.Figure at 0xa4832320b8>"
      ]
     },
     "metadata": {},
     "output_type": "display_data"
    },
    {
     "name": "stdout",
     "output_type": "stream",
     "text": [
      "0.898985200846\n"
     ]
    }
   ],
   "source": [
    "plt.plot(candidate_ks, k_scores, 'o-')\n",
    "plt.ylabel(\"CV-Accuracy\")\n",
    "plt.xlabel(\"K\")\n",
    "best_k = candidate_ks[np.argmax(k_scores)]\n",
    "plt.title(\"Best K: {}\".format(best_k))\n",
    "plt.show()\n",
    "print(np.max(k_scores))"
   ]
  },
  {
   "cell_type": "code",
   "execution_count": 17,
   "metadata": {
    "collapsed": true
   },
   "outputs": [],
   "source": [
    "#Random Forests\n",
    "from sklearn.model_selection import cross_val_score\n",
    "from sklearn.ensemble import RandomForestClassifier\n",
    "\n",
    "max_depth = 5\n",
    "candidate_trees = np.arange(1, 100)\n",
    "scores = []\n",
    "\n",
    "for n_trees in candidate_trees:\n",
    "    # we specify the max depth of each tree, as well as set the number of trees in our random forest\n",
    "    ran_for = RandomForestClassifier(max_depth=max_depth, n_estimators=n_trees, max_features=1)\n",
    "    scores.append(cross_val_score(ran_for, X, y, cv=kf))\n",
    "\n",
    "scores = np.array(scores)\n",
    "tree_scores = scores.mean(axis=1)"
   ]
  },
  {
   "cell_type": "code",
   "execution_count": 18,
   "metadata": {},
   "outputs": [
    {
     "data": {
      "image/png": "[encoded data removed]",
      "text/plain": [
       "<matplotlib.figure.Figure at 0xa4832913c8>"
      ]
     },
     "metadata": {},
     "output_type": "display_data"
    },
    {
     "name": "stdout",
     "output_type": "stream",
     "text": [
      "0.852325581395\n"
     ]
    }
   ],
   "source": [
    "plt.plot(candidate_trees, tree_scores, 'o-')\n",
    "plt.ylabel(\"CV-Accuracy\")\n",
    "plt.xlabel(\"N-trees\")\n",
    "best_k = candidate_trees[np.argmax(tree_scores)]\n",
    "plt.title(\"Best N-trees: {}\".format(best_k))\n",
    "plt.show()\n",
    "print(np.max(tree_scores))"
   ]
  },
  {
   "cell_type": "code",
   "execution_count": null,
   "metadata": {
    "collapsed": true
   },
   "outputs": [],
   "source": [
    "print(X.shape)\n",
    "print(y.shape)"
   ]
  },
  {
   "cell_type": "code",
   "execution_count": null,
   "metadata": {
    "collapsed": true
   },
   "outputs": [],
   "source": [
    "#SVM\n",
    "from sklearn.model_selection import GridSearchCV\n",
    "from sklearn.svm import SVC\n",
    "\n",
    "# grid of parameters to be tested (can also be a list)\n",
    "param_grid = {\"C\": np.logspace(-3, 3, 10), \n",
    "              \"gamma\": np.logspace(-3, 3, 10)}\n",
    "\n",
    "# classifier to be tested\n",
    "svm_rbf = SVC(kernel=\"rbf\")\n",
    "\n",
    "# create a grid object with k fold CV, testing the parameters above\n",
    "grid = GridSearchCV(svm_rbf, cv=kf, param_grid=param_grid)\n",
    "\n",
    "# fit the object\n",
    "grid.fit(X, y)"
   ]
  },
  {
   "cell_type": "code",
   "execution_count": 20,
   "metadata": {},
   "outputs": [
    {
     "data": {
      "text/plain": [
       "{'C': 1000.0, 'gamma': 0.001}"
      ]
     },
     "execution_count": 20,
     "metadata": {},
     "output_type": "execute_result"
    }
   ],
   "source": [
    "grid.best_params_"
   ]
  },
  {
   "cell_type": "code",
   "execution_count": 21,
   "metadata": {},
   "outputs": [
    {
     "data": {
      "image/png": "[encoded data removed]",
      "text/plain": [
       "<matplotlib.figure.Figure at 0xa483232160>"
      ]
     },
     "metadata": {},
     "output_type": "display_data"
    }
   ],
   "source": [
    "plt.imshow(grid.cv_results_[\"mean_test_score\"].reshape(10, 10))\n",
    "plt.xticks(np.arange(10), np.logspace(-3, 3, 10), rotation=\"vertical\")\n",
    "plt.xlabel(\"gamma\")\n",
    "plt.yticks(np.arange(10), np.logspace(-3, 3, 10))\n",
    "plt.ylabel(\"C\")\n",
    "plt.title(\"Classification accuracy\")\n",
    "plt.colorbar()\n",
    "plt.show()"
   ]
  },
  {
   "cell_type": "code",
   "execution_count": 25,
   "metadata": {},
   "outputs": [
    {
     "name": "stdout",
     "output_type": "stream",
     "text": [
      "0.943067033976\n"
     ]
    }
   ],
   "source": [
    "print(np.max(grid.cv_results_['mean_test_score']))"
   ]
  },
  {
   "cell_type": "code",
   "execution_count": null,
   "metadata": {
    "collapsed": true
   },
   "outputs": [],
   "source": [
    "# replace \"None\" with your model from above.\n",
    "\n",
    "all_models = {\"LDA\": lda, \n",
    "              \"Logistic Regression\": logreg, \n",
    "              \"Naive Bayes\": nb, \n",
    "              \"kNN\": this_knn, \n",
    "              \"Tree-based\": ran_for, \n",
    "              \"SVM\": svm_rbf}"
   ]
  },
  {
   "cell_type": "markdown",
   "metadata": {},
   "source": [
    "### Discussion\n",
    "\n",
    "LDA: The linear discriminant analysis models did not peform well because it assumes the data has a multivariate gaussian distribution with equal variance. From the data that was collected, we understand that the data would not have a continuous distribution, and it would act more like categorial data. Linear discriminant analysis also works better when there are multi-classes, but in our case there were only 2 classes (spam/non-spam). Based on the data, logistic regression or SVMs would be a better model.\n",
    "\n",
    "Logistic Regression: The logistic regression performs well with our data because we are categorizing it into 2 classes. There are only 2 categories in the dependent variable (spam/non-spam). Another advantage of using logistic regression is that does not require assumptions about normality.\n",
    "\n",
    "Naive Bayes: The Naive Bayes analysis does not perform well, because of the underlying assumption that all variables are conditionally independent. Because certain spam words are highly correlated with one another, a model with the assumption of independence would not work well.\n",
    "\n",
    "k_NN: K nearest neighbor analysis performed decently but not as well as logisitic regression or SVM because training that occurs for k-NN is minimal. It does the job in classifying and predicting, and it works with our data because it does not make any assumptions on the distribution of the data.\n",
    "\n",
    "Random Forest: The random forest surprisingly did very poorly on the data. This is probably because random forests are used for multi-class problems, where we only have a class of 2.\n",
    "\n",
    "SVM: SVMs performed the best. This makes sense because they can deal with data that are not completely linearly separable. It also works like an enhanced k nearest neighbor and logistic regression, which were the two models that performed best with the data.  It also performed well because SVMs are usually used to classify 2 classes, which is what we needed to accomplish in our case.\n",
    "\n",
    "LDA: 0.890581395349\n",
    "LOGREG: 0.936458773784\n",
    "NaiveBayes: 0.821490486258\n",
    "k-NN: 0.898985200846\n",
    "RandomForest: 0.852325581395\n",
    "SVM: 0.943067033976\n"
   ]
  },
  {
   "cell_type": "markdown",
   "metadata": {},
   "source": [
    "## Part 3: Classification function\n",
    "Write a classification function that takes in a string and classifies it as spam or not using a classifier clf. This function will need to take in a string, clean it as you did in training, featurize it, and run a prediction."
   ]
  },
  {
   "cell_type": "code",
   "execution_count": 45,
   "metadata": {
    "collapsed": true
   },
   "outputs": [],
   "source": [
    "def classify_text(clf, document, wordlist):\n",
    "    \"\"\"\n",
    "    a function to classify a string as spam or not\n",
    "    inputs:\n",
    "    -clf: trained classifier or pipeline\n",
    "    -document: email as string \n",
    "    returns:\n",
    "    -prediction (class label, int or float)\n",
    "    \"\"\"\n",
    "    ### YOUR CODE HERE ###\n",
    "    x = count_occurences(document, wordlist)\n",
    "    prediction = clf.predict([x])\n",
    "    \n",
    "    \n",
    "    return prediction"
   ]
  },
  {
   "cell_type": "markdown",
   "metadata": {},
   "source": [
    "## Extra-credit \n",
    "We keep the ultimate test of your models for ourselves; you do not have access to this test set. But you can assume it is drawn from the same distribution as your dataset. It is therefore equivalent to the elusive \"tomorrow' data\". \n",
    "\n",
    "The performance of your model on the test set will determine extra-credit. The point breakdown will be as follows:\n",
    "\n",
    "92-95%: 1pt\n",
    "\n",
    "95-98%: 2pts\n",
    "\n",
    "\\>98%: 3pts\n",
    "\n",
    "Each person can submit up to 3 models for the competition on top of the implementations of the various classifiers above. The 3 models need not use different machine-learning classifiers. They could even all be the same classifier with different parameters. Explain why you chose these 3 specific models for submission."
   ]
  },
  {
   "cell_type": "code",
   "execution_count": null,
   "metadata": {
    "collapsed": true
   },
   "outputs": [],
   "source": [
    "# format this dictionary the same as above, except only choose the best 3.\n",
    "best_models = {\"Logistic Regression\": logreg,  \n",
    "              \"kNN\": this_knn, \n",
    "              \"SVM\": svm_rbf}"
   ]
  },
  {
   "cell_type": "markdown",
   "metadata": {},
   "source": [
    "### Discussion\n",
    "\n",
    "Explain why you chose these 3 specific models for submission.\n",
    "The three models that I chose were the logistic regression model, the k-nearest neighbor model, and the support vector machine. I chose these 3 models because the data that we are testing needs to be categorized into two classes, they do not make any assumptions on the distribution of data, and it does not assume conditional independence. These models are different enough so that the likelihood for overfitting will lessen.  These 3 models also performed the best out of the 6 models that were tested."
   ]
  }
 ],
 "metadata": {
  "kernelspec": {
   "display_name": "Python 3",
   "language": "python",
   "name": "python3"
  },
  "language_info": {
   "codemirror_mode": {
    "name": "ipython",
    "version": 3
   },
   "file_extension": ".py",
   "mimetype": "text/x-python",
   "name": "python",
   "nbconvert_exporter": "python",
   "pygments_lexer": "ipython3",
   "version": "3.7.3"
  }
 },
 "nbformat": 4,
 "nbformat_minor": 2
}
